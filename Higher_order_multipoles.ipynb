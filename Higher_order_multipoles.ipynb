{
 "cells": [
  {
   "cell_type": "code",
   "execution_count": 17,
   "id": "5dcfb418",
   "metadata": {},
   "outputs": [],
   "source": [
    "import numpy as np\n",
    "import matplotlib.pyplot as plt"
   ]
  },
  {
   "cell_type": "code",
   "execution_count": 402,
   "id": "02ef9378",
   "metadata": {},
   "outputs": [],
   "source": [
    "nx=500\n",
    "ny=500\n",
    "x=np.outer(np.linspace(-5,5,nx),np.ones(ny))\n",
    "y=np.outer(np.ones(nx),np.linspace(-5,5,ny))\n",
    "y2=y-3.\n",
    "y3=y+3.\n",
    "x2=x-3.\n",
    "x3=x+3.\n",
    "\n",
    "exn=[1,1]/np.sqrt(2.)\n",
    "eyn=[1,-1]/np.sqrt(2.)\n",
    "\n",
    "xn=x + y\n",
    "yn=y - x\n",
    "rn2=np.sqrt(xn**2 + (yn-3)**2)\n",
    "rn3=np.sqrt(xn**2 + (yn+3)**2)\n",
    "\n",
    "r=np.sqrt(x**2 + y**2)\n",
    "r2=np.sqrt(x2**2 + y**2)\n",
    "r3=np.sqrt(x3**2 + y**2)\n",
    "r4=np.sqrt(x**2 + y2**2)\n",
    "r5=np.sqrt(x**2 + y3**2)\n",
    "re=np.sqrt(x**2 + 10*y**2)\n",
    "rsqr=x**2 + y**2\n",
    "img=np.zeros([nx,ny])\n",
    "\n",
    "img[rn2 < 2.5]=1\n",
    "img[rn3 < 2.5]=1\n",
    "\n",
    "#img[re<2.5]=1\n",
    "#img[r<2.5]=1\n",
    "img[r2<1.5]=1\n",
    "img[r3<1.5]=1\n",
    "#img[r4<2.]=1\n",
    "#img[r5<2.5]=1"
   ]
  },
  {
   "cell_type": "code",
   "execution_count": 403,
   "id": "dfc2fc59",
   "metadata": {},
   "outputs": [
    {
     "name": "stdout",
     "output_type": "stream",
     "text": [
      "-4.3655745685100555e-11\n"
     ]
    },
    {
     "data": {
      "image/png": "[encoded data removed]",
      "text/plain": [
       "<Figure size 432x288 with 1 Axes>"
      ]
     },
     "metadata": {
      "needs_background": "light"
     },
     "output_type": "display_data"
    }
   ],
   "source": [
    "plt.imshow(img)\n",
    "print(np.sum(img*rsqr*x))"
   ]
  },
  {
   "cell_type": "code",
   "execution_count": 404,
   "id": "5fb03c3c",
   "metadata": {},
   "outputs": [
    {
     "name": "stdout",
     "output_type": "stream",
     "text": [
      "Quadrupol moment:\n",
      "\n",
      " [[ 1.79467896 -1.26436873]\n",
      " [-1.26436873 -1.79467896]]\n"
     ]
    }
   ],
   "source": [
    "# Quadruple moment:\n",
    "\n",
    "q2=np.zeros([2,2])\n",
    "xy=[x,y]\n",
    "for i in [0,1]:\n",
    "    for j in [0,1]:\n",
    "        if i==j:\n",
    "            dij=1\n",
    "        else:\n",
    "            dij=0\n",
    "        q2[i,j]=1./2.*np.sum(img*(2*xy[i]*xy[j] - rsqr*dij))\n",
    "print(\"Quadrupol moment:\\n\\n\",q2/np.sum(img))"
   ]
  },
  {
   "cell_type": "code",
   "execution_count": 405,
   "id": "795ffd3f",
   "metadata": {},
   "outputs": [
    {
     "name": "stdout",
     "output_type": "stream",
     "text": [
      "Octupolpol moment:\n",
      "\n",
      " [[[ 3.13365604e-15 -1.16556981e-16]\n",
      "  [-7.18731191e-17 -6.42644305e-16]]\n",
      "\n",
      " [[-7.18731191e-17 -6.42644305e-16]\n",
      "  [-6.42644305e-16  1.76273234e-15]]]\n"
     ]
    }
   ],
   "source": [
    "# Octupole moment:\n",
    "\n",
    "q3=np.zeros([2,2,2])\n",
    "xy=[x,y]\n",
    "for i in [0,1]:\n",
    "    for j in [0,1]:\n",
    "        if i==j:\n",
    "            dij=1\n",
    "        else:\n",
    "            dij=0\n",
    "        for k in [0,1]:\n",
    "            if i==k:\n",
    "                dik=1\n",
    "            else:\n",
    "                dik=0\n",
    "            if j==k:\n",
    "                djk=1\n",
    "            else:\n",
    "                djk=0\n",
    "            q3[i,j,k]=1./2.*np.sum(img*(4*xy[i]*xy[j]*xy[k])) - np.sum(img*(rsqr*(xy[i]*djk + xy[j]*dik + xy[k]*dij)))\n",
    "print(\"Octupolpol moment:\\n\\n\",q3/np.sum(img))"
   ]
  },
  {
   "cell_type": "code",
   "execution_count": 406,
   "id": "34735a30",
   "metadata": {},
   "outputs": [],
   "source": [
    "# Hexadecapole moment:\n",
    "\n",
    "q4=np.zeros([2,2,2,2])\n",
    "xy=[x,y]\n",
    "for i in [0,1]:\n",
    "    for j in [0,1]:\n",
    "        if i==j:\n",
    "            dij=1\n",
    "        else:\n",
    "            dij=0\n",
    "        for k in [0,1]:\n",
    "            if i==k:\n",
    "                dik=1\n",
    "            else:\n",
    "                dik=0\n",
    "            if j==k:\n",
    "                djk=1\n",
    "            else:\n",
    "                djk=0\n",
    "            for l in [0,1]:\n",
    "                if i==l:\n",
    "                    dil=1\n",
    "                else:\n",
    "                    dil=0\n",
    "                if j==l:\n",
    "                    djl=1\n",
    "                else:\n",
    "                    djl=0\n",
    "                if k==l:\n",
    "                    dkl=1\n",
    "                else:\n",
    "                    dkl=0\n",
    "                q4[i,j,k,l]=1./8.*np.sum(img*(24*xy[i]*xy[j]*xy[k]*xy[l] - \n",
    "                                       4*rsqr*(xy[k]*xy[l]*dij + xy[j]*xy[l]*dik + xy[j]*xy[k]*dil + xy[i]*xy[l]*djk + xy[i]*xy[k]*djl + xy[i]*xy[j]*dkl)) +\n",
    "                                       img*(dij*dkl + dik*djl + dil*djk)*rsqr**2)"
   ]
  },
  {
   "cell_type": "code",
   "execution_count": 407,
   "id": "a6c03d75",
   "metadata": {},
   "outputs": [
    {
     "name": "stdout",
     "output_type": "stream",
     "text": [
      "Hexadecapol moment:\n",
      "\n",
      " [[[[ 8.76924311  1.91972498]\n",
      "   [ 1.91972498 -8.76924311]]\n",
      "\n",
      "  [[ 1.91972498 -8.76924311]\n",
      "   [-8.76924311 -1.91972498]]]\n",
      "\n",
      "\n",
      " [[[ 1.91972498 -8.76924311]\n",
      "   [-8.76924311 -1.91972498]]\n",
      "\n",
      "  [[-8.76924311 -1.91972498]\n",
      "   [-1.91972498  8.76924311]]]]\n"
     ]
    }
   ],
   "source": [
    "print(\"Hexadecapol moment:\\n\\n\",q4/np.sum(img))"
   ]
  },
  {
   "cell_type": "code",
   "execution_count": 344,
   "id": "c021e745",
   "metadata": {},
   "outputs": [],
   "source": [
    "q4b=q4"
   ]
  },
  {
   "cell_type": "code",
   "execution_count": 345,
   "id": "4219534e",
   "metadata": {},
   "outputs": [
    {
     "name": "stdout",
     "output_type": "stream",
     "text": [
      "Hexadecapol moment:\n",
      "\n",
      " [[[[ 2.03638696e+01 -3.86691261e-17]\n",
      "   [ 3.55258271e-17 -2.03638696e+01]]\n",
      "\n",
      "  [[-1.10342891e-17 -2.03638696e+01]\n",
      "   [-2.03638696e+01  8.32483091e-17]]]\n",
      "\n",
      "\n",
      " [[[-1.03794352e-17 -2.03638696e+01]\n",
      "   [-2.03638696e+01  1.17267972e-16]]\n",
      "\n",
      "  [[-2.03638696e+01 -1.73912839e-16]\n",
      "   [ 6.59274220e-17  2.03638696e+01]]]]\n"
     ]
    }
   ],
   "source": [
    "print(\"Hexadecapol moment:\\n\\n\",q4/np.sum(img))"
   ]
  },
  {
   "cell_type": "code",
   "execution_count": 346,
   "id": "d5eb9f29",
   "metadata": {},
   "outputs": [
    {
     "name": "stdout",
     "output_type": "stream",
     "text": [
      "[[[[ 2.03638696e+01 -3.86691261e-17]\n",
      "   [ 3.55258271e-17 -2.03638696e+01]]\n",
      "\n",
      "  [[-1.10342891e-17 -2.03638696e+01]\n",
      "   [-2.03638696e+01  8.32483091e-17]]]\n",
      "\n",
      "\n",
      " [[[-1.03794352e-17 -2.03638696e+01]\n",
      "   [-2.03638696e+01  1.17267972e-16]]\n",
      "\n",
      "  [[-2.03638696e+01 -1.73912839e-16]\n",
      "   [ 6.59274220e-17  2.03638696e+01]]]]\n"
     ]
    }
   ],
   "source": [
    "print(q4b/np.sum(img))"
   ]
  },
  {
   "cell_type": "code",
   "execution_count": null,
   "id": "c0d92bff",
   "metadata": {},
   "outputs": [],
   "source": []
  }
 ],
 "metadata": {
  "kernelspec": {
   "display_name": "Python 3",
   "language": "python",
   "name": "python3"
  },
  "language_info": {
   "codemirror_mode": {
    "name": "ipython",
    "version": 3
   },
   "file_extension": ".py",
   "mimetype": "text/x-python",
   "name": "python",
   "nbconvert_exporter": "python",
   "pygments_lexer": "ipython3",
   "version": "3.8.8"
  }
 },
 "nbformat": 4,
 "nbformat_minor": 5
}
