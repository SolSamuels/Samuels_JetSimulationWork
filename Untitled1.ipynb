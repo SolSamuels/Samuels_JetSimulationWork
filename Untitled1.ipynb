{
 "cells": [
  {
   "cell_type": "code",
   "execution_count": 26,
   "id": "e3f73b7b-1459-4296-b248-3542160195c4",
   "metadata": {},
   "outputs": [],
   "source": [
    "r_dict_I = {}\n",
    "r_dict_pix = {}\n",
    "r_vals = []\n",
    "\n",
    "if 7 in r_vals:\n",
    "    print('y')"
   ]
  },
  {
   "cell_type": "code",
   "execution_count": 32,
   "id": "7b965a04-5260-44cd-b718-4242c1f07da8",
   "metadata": {},
   "outputs": [
    {
     "name": "stdout",
     "output_type": "stream",
     "text": [
      "{8: 6.738}\n",
      "{8: 6}\n",
      "[8]\n"
     ]
    }
   ],
   "source": [
    "num = 8\n",
    "\n",
    "if num in r_vals:\n",
    "\n",
    "    #cur_pix_sum = r_dict_pix[r]\n",
    "    r_dict_I[num] += 1.123\n",
    "    r_dict_pix[num] += 1\n",
    "                \n",
    "                \n",
    "else:\n",
    "    r_vals.append(num)\n",
    "    \n",
    "    r_dict_I[num] = 1.123\n",
    "    \n",
    "    r_dict_pix[num] = 1\n",
    "    \n",
    "print(r_dict_I)\n",
    "print(r_dict_pix)\n",
    "print(r_vals)"
   ]
  },
  {
   "cell_type": "code",
   "execution_count": 47,
   "id": "c89d98fd-a6a9-42c9-a1ab-a06d823270ce",
   "metadata": {},
   "outputs": [],
   "source": [
    "import matplotlib.pyplot as plt\n",
    "from IPython.display import clear_output"
   ]
  },
  {
   "cell_type": "code",
   "execution_count": 52,
   "id": "2b25722f-cc58-4227-9395-cb26325ba889",
   "metadata": {},
   "outputs": [],
   "source": [
    "x = [1, 2, 3, 4, 5]\n",
    "y=[1, 2, 3, 4, 5]\n",
    "\n",
    "display(plt.plot(x, y))\n",
    "\n",
    "plt.show()\n",
    "ask = input(\"hi\")\n",
    "clear_output(wait=False)\n",
    "\n",
    "display(plt.plot(x, y))\n",
    "plt.show()\n",
    "ask = input(\"hi\")\n",
    "clear_output(wait=False)"
   ]
  },
  {
   "cell_type": "code",
   "execution_count": 41,
   "id": "0433de7f-97dc-46bf-b83e-e5b8b5cd67da",
   "metadata": {},
   "outputs": [],
   "source": [
    "plt.close(\"all\")"
   ]
  },
  {
   "cell_type": "code",
   "execution_count": null,
   "id": "6fa0d4a9-4aa7-465a-b430-ff2253d030f1",
   "metadata": {},
   "outputs": [],
   "source": []
  }
 ],
 "metadata": {
  "kernelspec": {
   "display_name": "Python 3 (ipykernel)",
   "language": "python",
   "name": "python3"
  },
  "language_info": {
   "codemirror_mode": {
    "name": "ipython",
    "version": 3
   },
   "file_extension": ".py",
   "mimetype": "text/x-python",
   "name": "python",
   "nbconvert_exporter": "python",
   "pygments_lexer": "ipython3",
   "version": "3.9.12"
  }
 },
 "nbformat": 4,
 "nbformat_minor": 5
}
