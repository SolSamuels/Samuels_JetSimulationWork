{
 "cells": [
  {
   "cell_type": "markdown",
   "id": "a258e78a-bbe9-4a1f-a530-5f1a838fef17",
   "metadata": {},
   "source": [
    "Program Name: Jetstarterprogram.py\n",
    "\n",
    "Date: 6/11/2022\n",
    "\n",
    "Creator: Sol Samuels\n",
    "\n",
    "Description: \n",
    " - This program is a method tester program for the program Jet_Length_Width_Determiner_v1.py\n",
    " - Not streamlined as intended.\n"
   ]
  },
  {
   "cell_type": "code",
   "execution_count": 1,
   "id": "fb32de8a-b894-4f07-abfd-6cc95f3ce49f",
   "metadata": {},
   "outputs": [],
   "source": [
    "import astropy.io\n",
    "import numpy as np\n",
    "import os\n",
    "import glob\n",
    "import matplotlib.pyplot as plt\n",
    "\n",
    "from astropy.io import fits"
   ]
  },
  {
   "cell_type": "code",
   "execution_count": 2,
   "id": "ead959e7-08cd-45ea-a7f1-be09573f35f1",
   "metadata": {
    "tags": []
   },
   "outputs": [
    {
     "name": "stdout",
     "output_type": "stream",
     "text": [
      "['Group_L446_rc30_beta07_0010_nu=30.0_los=0.00_1.00_0.00_1.0Myr.fits', 'Group_L446_rc30_beta07_0040_nu=30.0_los=0.00_1.00_0.00_4.0Myr.fits.gz', 'Group0.00_1.00_0.00.fits.txt']\n",
      "Group_L446_rc30_beta07_0010_nu=30.0_los=0.00_1.00_0.00_1.0Myr.fits\n",
      "Group_L446_rc30_beta07_0040_nu=30.0_los=0.00_1.00_0.00_4.0Myr.fits.gz\n",
      "Group0.00_1.00_0.00.fits.txt\n"
     ]
    }
   ],
   "source": [
    "path = '**/Group*0.00_1.00_0.00*.fits*'\n",
    "print(glob.glob(path, recursive=True))\n",
    "for file in glob.glob(path, recursive=True):\n",
    "    print(file)\n"
   ]
  },
  {
   "cell_type": "code",
   "execution_count": 3,
   "id": "08faa303-b989-405e-b880-162865b7fe11",
   "metadata": {},
   "outputs": [
    {
     "name": "stdout",
     "output_type": "stream",
     "text": [
      "Filename: Group_L446_rc30_beta07_0040_nu=30.0_los=0.00_1.00_0.00_4.0Myr.fits.gz\n",
      "No.    Name      Ver    Type      Cards   Dimensions   Format\n",
      "  0  I             1 PrimaryHDU      25   (144, 144)   float64   \n",
      "  1  Q             1 ImageHDU        26   (144, 144)   float64   \n",
      "  2  U             1 ImageHDU        26   (144, 144)   float64   \n"
     ]
    }
   ],
   "source": [
    "#Opens and displays list of FITS file Extension HDUs\n",
    "\n",
    "fits_image_hdul = fits.open('Group_L446_rc30_beta07_0040_nu=30.0_los=0.00_1.00_0.00_4.0Myr.fits.gz')\n",
    "fits_image_hdul.info()"
   ]
  },
  {
   "cell_type": "code",
   "execution_count": 4,
   "id": "b295dac6-8ed1-4283-a69b-f4609ef2fe60",
   "metadata": {},
   "outputs": [
    {
     "name": "stdout",
     "output_type": "stream",
     "text": [
      "Simulation Group_L446_rc30_beta07 - 4.0 Myr - 30 MHz\n",
      "Time index: 4.0003e+00 Myr\n",
      "Pixel size: 1.2500e+21 cm\n"
     ]
    }
   ],
   "source": [
    "#Displays FITS Image title, time index, and pixel size\n",
    "\n",
    "sim_title = fits_image_hdul[0].header['OBJECT']\n",
    "sim_time = fits_image_hdul[0].header['TIME']\n",
    "pixel = fits_image_hdul[0].header['CDELT1']\n",
    "\n",
    "print(sim_title)\n",
    "print(\"Time index: {}\".format(sim_time))\n",
    "print(\"Pixel size: {}\".format(pixel))"
   ]
  },
  {
   "cell_type": "code",
   "execution_count": 5,
   "id": "06f79194-d261-4637-91b4-6274c7c2cbeb",
   "metadata": {},
   "outputs": [
    {
     "name": "stdout",
     "output_type": "stream",
     "text": [
      "SIMPLE  =                    T / conforms to FITS standard                      \n",
      "BITPIX  =                  -64 / array data type                                \n",
      "NAXIS   =                    2 / number of array dimensions                     \n",
      "NAXIS1  =                  144                                                  \n",
      "NAXIS2  =                  144                                                  \n",
      "EXTEND  =                    T                                                  \n",
      "EXTNAME = 'I       '           / extension name                                 \n",
      "BTYPE   = 'I       '                                                            \n",
      "BUNIT   = 'Jy/arcsec**2'                                                        \n",
      "WCSAXES =                    2                                                  \n",
      "CRPIX1  = '72.5    '                                                            \n",
      "CRPIX2  = '72.5    '                                                            \n",
      "CDELT1  = '1.2500e+21 cm'                                                       \n",
      "CDELT2  = '1.2500e+21 cm'                                                       \n",
      "CUNIT1  = 'cm      '                                                            \n",
      "CUNIT2  = 'cm      '                                                            \n",
      "CRVAL1  = '0.0     '                                                            \n",
      "CRVAL2  = '0.0     '                                                            \n",
      "LATPOLE = '90.0    '                                                            \n",
      "WCSNAME = 'yt      '                                                            \n",
      "MJDREF  = '0.0     '                                                            \n",
      "CTYPE1  = 'LINEAR  '                                                            \n",
      "CTYPE2  = 'LINEAR  '                                                            \n",
      "OBJECT  = 'Simulation Group_L446_rc30_beta07 - 4.0 Myr - 30 MHz'                \n",
      "TIME    = '4.0003e+00 Myr'                                                      \n"
     ]
    }
   ],
   "source": [
    "#Displays Entire FITS Image Header\n",
    "\n",
    "hdr = fits_image_hdul[0].header\n",
    "header = repr(hdr)\n",
    "print(header)\n"
   ]
  },
  {
   "cell_type": "code",
   "execution_count": 6,
   "id": "5a069e1a-6901-43f0-bfc2-c4894a06881c",
   "metadata": {},
   "outputs": [
    {
     "name": "stdout",
     "output_type": "stream",
     "text": [
      "[[0. 0. 0. ... 0. 0. 0.]\n",
      " [0. 0. 0. ... 0. 0. 0.]\n",
      " [0. 0. 0. ... 0. 0. 0.]\n",
      " ...\n",
      " [0. 0. 0. ... 0. 0. 0.]\n",
      " [0. 0. 0. ... 0. 0. 0.]\n",
      " [0. 0. 0. ... 0. 0. 0.]]\n",
      "144\n",
      "144\n"
     ]
    }
   ],
   "source": [
    "#Difines Data From FITS image and records image dimensions\n",
    "\n",
    "data =  fits_image_hdul[0].data\n",
    "print(data)\n",
    "\n",
    "length = len(data[0])\n",
    "print(length)\n",
    "\n",
    "width = len(data)\n",
    "print(width)\n",
    "\n"
   ]
  },
  {
   "cell_type": "markdown",
   "id": "a320bdd5-5775-42b7-bced-c78877e0b154",
   "metadata": {},
   "source": [
    "## DETERMINING LENGTH"
   ]
  },
  {
   "cell_type": "code",
   "execution_count": 7,
   "id": "58355f71-1d30-40a1-a0d0-89d563445c5e",
   "metadata": {},
   "outputs": [
    {
     "name": "stdout",
     "output_type": "stream",
     "text": [
      "[0.0, 0.0, 0.0, 0.0, 0.0, 0.0, 0.0, 0.0, 0.0, 0.0, 0.0, 0.0, 0.0, 0.0, 0.0, 0.0, 0.0, 0.0, 0.0, 0.0, 0.0, 0.0, 0.0, 0.0, 0.0, 0.0, 0.0, 0.0, 0.0, 0.0, 8.484852240641784e-07, 0.0034607825436592777, 0.5561388701933379, 23.945903334750223, 49.356954981519266, 62.98149672974704, 49.992472582279255, 48.34111887474366, 56.11663004757334, 59.007587811555425, 58.61302747102203, 56.74961794155173, 54.80831947018898, 55.11299285245062, 58.88709929268556, 61.72508963953176, 62.392740440947115, 63.11110512724148, 62.94328308827415, 63.692177894083564, 63.82655096452979, 61.722394790290934, 60.232868705791994, 64.21631409673776, 69.08828142695481, 74.50868109073996, 74.9097388435797, 67.39606716529872, 64.68123111380629, 64.86086171307352, 72.64120097837666, 77.66326924146908, 80.12815609688879, 84.13660146570835, 85.07630862951508, 80.32948396436767, 81.05153965529381, 77.70821576720232, 77.96614851459091, 77.19182885478483, 80.32757355898141, 82.92971273749399, 80.74899097947953, 75.06041427342491, 75.34475594010263, 80.52488743054313, 88.58744287806147, 93.27171569562525, 89.23444365783828, 85.68800690761944, 89.39073006109764, 89.87602422126075, 88.66629682246744, 77.39613460091961, 75.37868897564223, 82.39894244019706, 79.52114279280293, 74.42998172964302, 72.62616468726998, 83.06956859333297, 91.27436330131441, 90.24995395885718, 82.83516749402233, 78.15603351098684, 76.11294773855039, 78.0436930401261, 76.31632691193296, 69.80705488490564, 62.16328333310073, 57.59195757912204, 57.09423063766089, 56.26144738149027, 58.28897109819887, 58.89013014813629, 59.854645734882396, 54.1740287136491, 52.70034042428755, 50.88374116026041, 42.93781666598829, 39.38877679856312, 76.74790412052181, 129.17638176810453, 0.6085914981132247, 1.8453549380085547e-08, 0.0, 0.0, 0.0, 0.0, 0.0, 0.0, 0.0, 0.0, 0.0, 0.0, 0.0, 0.0, 0.0, 0.0, 0.0, 0.0, 0.0, 0.0, 0.0, 0.0, 0.0, 0.0, 0.0, 0.0, 0.0, 0.0, 0.0, 0.0, 0.0, 0.0]\n"
     ]
    }
   ],
   "source": [
    "#Creates list of slice sums\n",
    "\n",
    "slice_vals = []\n",
    "\n",
    "for row in data:\n",
    "    slice_sum = 0\n",
    "    for element in row:\n",
    "        slice_sum += element\n",
    "    slice_vals.append(slice_sum)\n",
    "    \n",
    "print(slice_vals)"
   ]
  },
  {
   "cell_type": "code",
   "execution_count": 8,
   "id": "a6422e30-6e5b-4738-b612-d5a28cb3d172",
   "metadata": {},
   "outputs": [
    {
     "name": "stdout",
     "output_type": "stream",
     "text": [
      "[0.0, 0.0, 0.0, 0.0, 0.0, 0.0, 0.0, 0.0, 0.0, 0.0, 0.0, 0.0, 0.0, 0.0, 0.0, 0.0, 0.0, 0.0, 0.0, 0.0, 0.0, 0.0, 0.0, 0.0, 0.0, 0.0, 0.0, 0.0, 0.0, 0.0, 8.484852240641784e-07, 0.003461631028883342, 0.5596005012222212, 24.505503835972444, 73.86245881749171, 136.84395554723875, 186.836428129518, 235.17754700426167, 291.294177051835, 350.3017648633904, 408.9147923344124, 465.66441027596414, 520.4727297461532, 575.5857225986038, 634.4728218912893, 696.1979115308211, 758.5906519717682, 821.7017570990097, 884.6450401872838, 948.3372180813674, 1012.1637690458972, 1073.8861638361882, 1134.1190325419802, 1198.335346638718, 1267.4236280656728, 1341.9323091564127, 1416.8420479999922, 1484.238115165291, 1548.9193462790972, 1613.7802079921707, 1686.4214089705474, 1764.0846782120166, 1844.2128343089053, 1928.3494357746135, 2013.4257444041286, 2093.7552283684963, 2174.80676802379, 2252.514983790992, 2330.481132305583, 2407.672961160368, 2488.000534719349, 2570.930247456843, 2651.6792384363225, 2726.7396527097476, 2802.08440864985, 2882.609296080393, 2971.1967389584547, 3064.46845465408, 3153.702898311918, 3239.3909052195377, 3328.7816352806353, 3418.657659501896, 3507.3239563243633, 3584.720090925283, 3660.098779900925, 3742.497722341122, 3822.018865133925, 3896.4488468635677, 3969.0750115508376, 4052.1445801441705, 4143.418943445485, 4233.668897404342, 4316.504064898364, 4394.660098409351, 4470.773046147901, 4548.816739188028, 4625.133066099961, 4694.940120984867, 4757.103404317967, 4814.695361897089, 4871.78959253475, 4928.05103991624, 4986.340011014439, 5045.230141162576, 5105.084786897458, 5159.258815611107, 5211.959156035395, 5262.8428971956555, 5305.780713861644, 5345.169490660207, 5421.9173947807285, 5551.093776548833, 5551.7023680469465, 5551.7023680654, 5551.7023680654, 5551.7023680654, 5551.7023680654, 5551.7023680654, 5551.7023680654, 5551.7023680654, 5551.7023680654, 5551.7023680654, 5551.7023680654, 5551.7023680654, 5551.7023680654, 5551.7023680654, 5551.7023680654, 5551.7023680654, 5551.7023680654, 5551.7023680654, 5551.7023680654, 5551.7023680654, 5551.7023680654, 5551.7023680654, 5551.7023680654, 5551.7023680654, 5551.7023680654, 5551.7023680654, 5551.7023680654, 5551.7023680654, 5551.7023680654, 5551.7023680654, 5551.7023680654, 5551.7023680654]\n"
     ]
    }
   ],
   "source": [
    "#Creates list of Cumultive Sum values\n",
    "\n",
    "cul_vals = []\n",
    "movingsum = 0\n",
    "\n",
    "for element in slice_vals:\n",
    "    movingsum += element\n",
    "    cul_vals.append(movingsum)\n",
    "    \n",
    "print(cul_vals)"
   ]
  },
  {
   "cell_type": "code",
   "execution_count": 9,
   "id": "25375f7c-c8c6-45f7-bb19-c62a4eed0dec",
   "metadata": {},
   "outputs": [
    {
     "data": {
      "image/png": "[encoded data removed]",
      "text/plain": [
       "<Figure size 432x288 with 1 Axes>"
      ]
     },
     "metadata": {
      "needs_background": "light"
     },
     "output_type": "display_data"
    }
   ],
   "source": [
    "plt.hist(slice_vals)\n",
    "plt.show()"
   ]
  },
  {
   "cell_type": "code",
   "execution_count": 10,
   "id": "ee739cb2-5b3f-4a0f-bc57-ca1eea021249",
   "metadata": {},
   "outputs": [
    {
     "name": "stdout",
     "output_type": "stream",
     "text": [
      "144\n"
     ]
    }
   ],
   "source": [
    "y_val = []\n",
    "for x in range(length):\n",
    "    y_val.append(x)\n",
    "    \n",
    "print(len(y_val))"
   ]
  },
  {
   "cell_type": "code",
   "execution_count": 11,
   "id": "189ff993-7829-4a55-b35e-fc134555b713",
   "metadata": {},
   "outputs": [
    {
     "data": {
      "image/png": "[encoded data removed]",
      "text/plain": [
       "<Figure size 432x288 with 1 Axes>"
      ]
     },
     "metadata": {
      "needs_background": "light"
     },
     "output_type": "display_data"
    }
   ],
   "source": [
    "plt.bar(y_val, cul_vals)\n",
    "plt.show()"
   ]
  },
  {
   "cell_type": "code",
   "execution_count": 12,
   "id": "3af6932f-0f93-44d4-bcb6-571c0f1a5901",
   "metadata": {},
   "outputs": [
    {
     "name": "stdout",
     "output_type": "stream",
     "text": [
      "[0.0, 0.0, 0.0, 0.0, 0.0, 0.0, 0.0, 0.0, 0.0, 0.0, 0.0, 0.0, 0.0, 0.0, 0.0, 0.0, 0.0, 0.0, 0.0, 0.0, 0.0, 0.0, 0.0, 0.0, 0.0, 0.0, 0.0, 0.0, 0.0, 0.0, 1.5283334152508788e-10, 6.235260464961877e-07, 0.00010079800106741403, 0.004414052161177341, 0.01330447021842609, 0.02464900790330457, 0.03365389852385491, 0.04236133917355766, 0.05246934322838027, 0.06309808084784992, 0.07365574831363066, 0.0838777692684981, 0.09375011397225211, 0.10367733794763531, 0.11428437258108702, 0.12540260002688597, 0.13664108802650277, 0.14800897141489733, 0.15934662587028342, 0.17081917495008547, 0.18231592796978516, 0.19343367000605347, 0.20428311126073323, 0.21585007033730835, 0.228294592187825, 0.24171546314793446, 0.25520857460766916, 0.26734828648289066, 0.27899898870458517, 0.2906820468753847, 0.3037665381111225, 0.31775562904081733, 0.33218870754261226, 0.34734380698556516, 0.3626681711155467, 0.3771375137853628, 0.3917369166859073, 0.4057341036054001, 0.41977775064294104, 0.43368192340602163, 0.44815092196420137, 0.4630886306595601, 0.47763353700107525, 0.49115378886205197, 0.5047252577458131, 0.5192297974512807, 0.5351866043917313, 0.5519871656451846, 0.5680605135557524, 0.5834950597952114, 0.5995965587832143, 0.6157854713478083, 0.6317564818494691, 0.6456974551707549, 0.6592750362401647, 0.6741171399729177, 0.6884408802458519, 0.7018475754890589, 0.7149293583139148, 0.7298922585355058, 0.7463330468289028, 0.7625893134612775, 0.7775099922012813, 0.7915878422604915, 0.8052976816381153, 0.8193552963778843, 0.8331017694148614, 0.8456757602841217, 0.8568729173382674, 0.8672466646613234, 0.8775307589539281, 0.887664848220874, 0.898164145055209, 0.9087717256212864, 0.9195530394898358, 0.9293111326155173, 0.9388037777413497, 0.9479692080520513, 0.9557033792700503, 0.9627982799306362, 0.9766224907820665, 0.9998903774957268, 0.999999999996676, 1.0, 1.0, 1.0, 1.0, 1.0, 1.0, 1.0, 1.0, 1.0, 1.0, 1.0, 1.0, 1.0, 1.0, 1.0, 1.0, 1.0, 1.0, 1.0, 1.0, 1.0, 1.0, 1.0, 1.0, 1.0, 1.0, 1.0, 1.0, 1.0, 1.0, 1.0]\n"
     ]
    }
   ],
   "source": [
    "max_val = cul_vals[-1]\n",
    "norm_cul_vals = []\n",
    "norm = 0\n",
    "\n",
    "for element in cul_vals:\n",
    "    norm = element / max_val\n",
    "    norm_cul_vals.append(norm)\n",
    "    \n",
    "print(norm_cul_vals)\n",
    "    "
   ]
  },
  {
   "cell_type": "code",
   "execution_count": 13,
   "id": "6a01069b-65fe-469b-9e07-2bfe500ab5d6",
   "metadata": {},
   "outputs": [
    {
     "data": {
      "image/png": "[encoded data removed]",
      "text/plain": [
       "<Figure size 432x288 with 1 Axes>"
      ]
     },
     "metadata": {
      "needs_background": "light"
     },
     "output_type": "display_data"
    }
   ],
   "source": [
    "plt.bar(y_val, norm_cul_vals)\n",
    "plt.xlabel(\"Image y-value\")\n",
    "plt.ylabel(\"Normalized Cumulative Value\")\n",
    "plt.show()"
   ]
  },
  {
   "cell_type": "code",
   "execution_count": 14,
   "id": "ca1890ab-fe45-4348-93cf-519a02601ce2",
   "metadata": {},
   "outputs": [
    {
     "name": "stdout",
     "output_type": "stream",
     "text": [
      "[1.5283334152508788e-10, 6.235260464961877e-07, 0.00010079800106741403, 0.004414052161177341, 0.01330447021842609, 0.02464900790330457, 0.03365389852385491, 0.04236133917355766, 0.05246934322838027, 0.06309808084784992, 0.07365574831363066, 0.0838777692684981, 0.09375011397225211, 0.10367733794763531, 0.11428437258108702, 0.12540260002688597, 0.13664108802650277, 0.14800897141489733, 0.15934662587028342, 0.17081917495008547, 0.18231592796978516, 0.19343367000605347, 0.20428311126073323, 0.21585007033730835, 0.228294592187825, 0.24171546314793446, 0.25520857460766916, 0.26734828648289066, 0.27899898870458517, 0.2906820468753847, 0.3037665381111225, 0.31775562904081733, 0.33218870754261226, 0.34734380698556516, 0.3626681711155467, 0.3771375137853628, 0.3917369166859073, 0.4057341036054001, 0.41977775064294104, 0.43368192340602163, 0.44815092196420137, 0.4630886306595601, 0.47763353700107525, 0.49115378886205197, 0.5047252577458131, 0.5192297974512807, 0.5351866043917313, 0.5519871656451846, 0.5680605135557524, 0.5834950597952114, 0.5995965587832143, 0.6157854713478083, 0.6317564818494691, 0.6456974551707549, 0.6592750362401647, 0.6741171399729177, 0.6884408802458519, 0.7018475754890589, 0.7149293583139148, 0.7298922585355058, 0.7463330468289028, 0.7625893134612775, 0.7775099922012813, 0.7915878422604915, 0.8052976816381153, 0.8193552963778843, 0.8331017694148614, 0.8456757602841217, 0.8568729173382674, 0.8672466646613234, 0.8775307589539281, 0.887664848220874, 0.898164145055209, 0.9087717256212864, 0.9195530394898358, 0.9293111326155173, 0.9388037777413497, 0.9479692080520513, 0.9557033792700503, 0.9627982799306362, 0.9766224907820665, 0.9998903774957268, 0.999999999996676, 1.0]\n"
     ]
    }
   ],
   "source": [
    "norm_cul_vals_edit = []\n",
    "prev_ele = 0\n",
    "\n",
    "for element in norm_cul_vals:\n",
    "    if element != 0 and element != prev_ele:\n",
    "        norm_cul_vals_edit.append(element)\n",
    "    prev_ele = element\n",
    "        \n",
    "print(norm_cul_vals_edit)\n",
    "\n",
    "y_vals = []\n",
    "for x in range(len(norm_cul_vals_edit)):\n",
    "    y_vals.append(x)"
   ]
  },
  {
   "cell_type": "code",
   "execution_count": 15,
   "id": "23b5ce94-83da-431d-aa09-d7ec4f63e085",
   "metadata": {},
   "outputs": [
    {
     "data": {
      "image/png": "[encoded data removed]",
      "text/plain": [
       "<Figure size 432x288 with 1 Axes>"
      ]
     },
     "metadata": {
      "needs_background": "light"
     },
     "output_type": "display_data"
    }
   ],
   "source": [
    "plt.bar(y_vals, norm_cul_vals_edit)\n",
    "plt.xlabel(\"Number of pixels from bottom edge of jet\")\n",
    "plt.ylabel(\"Normalized Cumulative Value\")\n",
    "plt.show()"
   ]
  },
  {
   "cell_type": "code",
   "execution_count": 16,
   "id": "2322c78a-9c6f-4c32-90ca-202f8b266a99",
   "metadata": {},
   "outputs": [
    {
     "name": "stdout",
     "output_type": "stream",
     "text": [
      "Length of Jet in Pixels: 81 pixels\n"
     ]
    }
   ],
   "source": [
    "pixel_count = 0\n",
    "for element in norm_cul_vals_edit:\n",
    "    if element <= 0.98:\n",
    "        pixel_count += 1\n",
    "        \n",
    "print(\"Length of Jet in Pixels: {} pixels\".format(pixel_count))"
   ]
  },
  {
   "cell_type": "code",
   "execution_count": 17,
   "id": "9e41b0dc-1bd5-4093-8a6a-8dc268c93df3",
   "metadata": {},
   "outputs": [
    {
     "name": "stdout",
     "output_type": "stream",
     "text": [
      "Jet Length (in y direction): 1.0125e+23 cm\n"
     ]
    }
   ],
   "source": [
    "\n",
    "pixel_size = float(pixel[:-3])\n",
    "\n",
    "jet_size_y = pixel_size * pixel_count\n",
    "print(\"Jet Length (in y direction): {} cm\".format(jet_size_y))\n"
   ]
  },
  {
   "cell_type": "markdown",
   "id": "78d8cef1-1a8f-43fe-bfa5-2b1649186ef6",
   "metadata": {},
   "source": [
    "## DETERMINING WIDTH"
   ]
  },
  {
   "cell_type": "code",
   "execution_count": 18,
   "id": "971d35a1-3d59-45cd-b287-6eac7dd6f5cb",
   "metadata": {},
   "outputs": [],
   "source": [
    "data_reorient = []\n",
    "\n",
    "for x in range(width):\n",
    "    col_sub = []\n",
    "    for row in data:\n",
    "        col_sub.append(row[x])\n",
    "    data_reorient.append(col_sub)\n",
    "    \n",
    "    "
   ]
  },
  {
   "cell_type": "code",
   "execution_count": 19,
   "id": "467751cf-aba9-4668-b31e-e248772e2527",
   "metadata": {},
   "outputs": [
    {
     "name": "stdout",
     "output_type": "stream",
     "text": [
      "[0.0, 0.0, 0.0, 0.0, 0.0, 0.0, 0.0, 0.0, 0.0, 0.0, 0.0, 0.0, 0.0, 0.0, 0.0, 0.0, 0.0, 0.0, 0.0, 0.0, 0.0, 0.0, 0.0, 0.0, 0.0, 0.0, 0.0, 0.0, 0.0, 0.0, 0.0, 0.0, 0.0, 0.0, 0.0, 0.0, 0.0, 0.0, 0.0, 0.0, 0.0, 0.0, 0.0, 0.0, 0.0, 0.0, 0.0, 0.0, 0.0, 0.0, 0.0, 1.2194154211652402e-11, 4.8771579665733456e-08, 8.397177527086027e-06, 0.0024218392630000647, 0.19106885403181445, 3.722326752026957, 11.015793273335849, 21.287501959859892, 31.855676573233865, 52.38210012874596, 73.09815840769978, 83.71613693790555, 97.28349354443647, 148.0656463534946, 179.4896849535506, 213.73571906598784, 327.8759395169138, 365.46524612048205, 364.2395635169561, 393.2601439838604, 400.4548142923657, 387.74253464996724, 362.44913901049983, 317.6358171153991, 269.28185425230413, 260.3505321238799, 241.82482845503557, 217.5627822302546, 194.77782081333874, 172.9511757437756, 151.4618861579566, 101.64782170964632, 52.040733103369966, 29.351858583848326, 14.974725836723332, 7.673852571836566, 2.682324992625822, 0.15030780371528824, 0.0009275879511939109, 8.028948947717167e-07, 2.6630923038834115e-10, 0.0, 0.0, 0.0, 0.0, 0.0, 0.0, 0.0, 0.0, 0.0, 0.0, 0.0, 0.0, 0.0, 0.0, 0.0, 0.0, 0.0, 0.0, 0.0, 0.0, 0.0, 0.0, 0.0, 0.0, 0.0, 0.0, 0.0, 0.0, 0.0, 0.0, 0.0, 0.0, 0.0, 0.0, 0.0, 0.0, 0.0, 0.0, 0.0, 0.0, 0.0, 0.0, 0.0, 0.0, 0.0, 0.0, 0.0, 0.0, 0.0, 0.0, 0.0, 0.0]\n"
     ]
    }
   ],
   "source": [
    "col_slice_vals = []\n",
    "\n",
    "for row in data_reorient:\n",
    "    slice_sum = 0\n",
    "    for element in row:\n",
    "        slice_sum += element\n",
    "    col_slice_vals.append(slice_sum)\n",
    "    \n",
    "print(col_slice_vals)"
   ]
  },
  {
   "cell_type": "code",
   "execution_count": 20,
   "id": "093a80fb-6479-4b5e-bfd2-440483bf1a48",
   "metadata": {},
   "outputs": [
    {
     "name": "stdout",
     "output_type": "stream",
     "text": [
      "[0.0, 0.0, 0.0, 0.0, 0.0, 0.0, 0.0, 0.0, 0.0, 0.0, 0.0, 0.0, 0.0, 0.0, 0.0, 0.0, 0.0, 0.0, 0.0, 0.0, 0.0, 0.0, 0.0, 0.0, 0.0, 0.0, 0.0, 0.0, 0.0, 0.0, 0.0, 0.0, 0.0, 0.0, 0.0, 0.0, 0.0, 0.0, 0.0, 0.0, 0.0, 0.0, 0.0, 0.0, 0.0, 0.0, 0.0, 0.0, 0.0, 0.0, 0.0, 1.2194154211652402e-11, 4.878377381994511e-08, 8.445961300905971e-06, 0.0024302852243009705, 0.19349913925611542, 3.9158258912830726, 14.93161916461892, 36.21912112447881, 68.07479769771268, 120.45689782645864, 193.55505623415843, 277.271193172064, 374.55468671650044, 522.620333069995, 702.1100180235456, 915.8457370895335, 1243.7216766064473, 1609.1869227269294, 1973.4264862438854, 2366.686630227746, 2767.1414445201117, 3154.883979170079, 3517.333118180579, 3834.968935295978, 4104.250789548282, 4364.601321672162, 4606.426150127198, 4823.9889323574525, 5018.766753170791, 5191.717928914567, 5343.1798150725235, 5444.82763678217, 5496.86836988554, 5526.2202284693885, 5541.194954306112, 5548.868806877948, 5551.551131870574, 5551.701439674289, 5551.70236726224, 5551.702368065135, 5551.702368065401, 5551.702368065401, 5551.702368065401, 5551.702368065401, 5551.702368065401, 5551.702368065401, 5551.702368065401, 5551.702368065401, 5551.702368065401, 5551.702368065401, 5551.702368065401, 5551.702368065401, 5551.702368065401, 5551.702368065401, 5551.702368065401, 5551.702368065401, 5551.702368065401, 5551.702368065401, 5551.702368065401, 5551.702368065401, 5551.702368065401, 5551.702368065401, 5551.702368065401, 5551.702368065401, 5551.702368065401, 5551.702368065401, 5551.702368065401, 5551.702368065401, 5551.702368065401, 5551.702368065401, 5551.702368065401, 5551.702368065401, 5551.702368065401, 5551.702368065401, 5551.702368065401, 5551.702368065401, 5551.702368065401, 5551.702368065401, 5551.702368065401, 5551.702368065401, 5551.702368065401, 5551.702368065401, 5551.702368065401, 5551.702368065401, 5551.702368065401, 5551.702368065401, 5551.702368065401, 5551.702368065401, 5551.702368065401, 5551.702368065401, 5551.702368065401, 5551.702368065401, 5551.702368065401]\n"
     ]
    }
   ],
   "source": [
    "col_cul_vals = []\n",
    "movingsum = 0\n",
    "\n",
    "for element in col_slice_vals:\n",
    "    movingsum += element\n",
    "    col_cul_vals.append(movingsum)\n",
    "    \n",
    "print(col_cul_vals)"
   ]
  },
  {
   "cell_type": "code",
   "execution_count": 21,
   "id": "f1d1c072-d632-4bbc-a07a-700a4bfc29c9",
   "metadata": {},
   "outputs": [
    {
     "name": "stdout",
     "output_type": "stream",
     "text": [
      "[0.0, 0.0, 0.0, 0.0, 0.0, 0.0, 0.0, 0.0, 0.0, 0.0, 0.0, 0.0, 0.0, 0.0, 0.0, 0.0, 0.0, 0.0, 0.0, 0.0, 0.0, 0.0, 0.0, 0.0, 0.0, 0.0, 0.0, 0.0, 0.0, 0.0, 0.0, 0.0, 0.0, 0.0, 0.0, 0.0, 0.0, 0.0, 0.0, 0.0, 0.0, 0.0, 0.0, 0.0, 0.0, 0.0, 0.0, 0.0, 0.0, 0.0, 0.0, 2.1964711728416546e-15, 8.787173840687135e-12, 1.5213281874563335e-09, 4.3775495571961843e-07, 3.48540188986291e-05, 0.0007053378642572329, 0.002689556855660858, 0.006523966654411999, 0.012261968164809, 0.02169729027970824, 0.03486409094038059, 0.04994345423972801, 0.06746663669706439, 0.09413695087046106, 0.12646751779458407, 0.1649666492133435, 0.22402527984219844, 0.28985468168886763, 0.3554633075424691, 0.4262992634189905, 0.49843115878064914, 0.5682732556625617, 0.6335593814274056, 0.690773510726287, 0.7392778858529637, 0.7861735072071403, 0.8297321874861956, 0.8689206683892288, 0.9040050097137463, 0.9351578281246591, 0.9624398897548354, 0.9807491965170904, 0.9901230299204659, 0.9954100313909854, 0.9981073528329382, 0.9994896049896781, 0.999972758591005, 0.9999998327736159, 0.9999999998553306, 0.999999999999952, 1.0, 1.0, 1.0, 1.0, 1.0, 1.0, 1.0, 1.0, 1.0, 1.0, 1.0, 1.0, 1.0, 1.0, 1.0, 1.0, 1.0, 1.0, 1.0, 1.0, 1.0, 1.0, 1.0, 1.0, 1.0, 1.0, 1.0, 1.0, 1.0, 1.0, 1.0, 1.0, 1.0, 1.0, 1.0, 1.0, 1.0, 1.0, 1.0, 1.0, 1.0, 1.0, 1.0, 1.0, 1.0, 1.0, 1.0, 1.0, 1.0, 1.0, 1.0, 1.0, 1.0]\n"
     ]
    }
   ],
   "source": [
    "max_val = col_cul_vals[-1]\n",
    "norm_cul_vals = []\n",
    "norm = 0\n",
    "\n",
    "for element in col_cul_vals:\n",
    "    norm = element / max_val\n",
    "    norm_cul_vals.append(norm)\n",
    "    \n",
    "print(norm_cul_vals)\n",
    "    "
   ]
  },
  {
   "cell_type": "code",
   "execution_count": 22,
   "id": "8745e4dd-9576-48a9-9e0e-c7fd82db7dfe",
   "metadata": {},
   "outputs": [
    {
     "name": "stdout",
     "output_type": "stream",
     "text": [
      "[2.1964711728416546e-15, 8.787173840687135e-12, 1.5213281874563335e-09, 4.3775495571961843e-07, 3.48540188986291e-05, 0.0007053378642572329, 0.002689556855660858, 0.006523966654411999, 0.012261968164809, 0.02169729027970824, 0.03486409094038059, 0.04994345423972801, 0.06746663669706439, 0.09413695087046106, 0.12646751779458407, 0.1649666492133435, 0.22402527984219844, 0.28985468168886763, 0.3554633075424691, 0.4262992634189905, 0.49843115878064914, 0.5682732556625617, 0.6335593814274056, 0.690773510726287, 0.7392778858529637, 0.7861735072071403, 0.8297321874861956, 0.8689206683892288, 0.9040050097137463, 0.9351578281246591, 0.9624398897548354, 0.9807491965170904, 0.9901230299204659, 0.9954100313909854, 0.9981073528329382, 0.9994896049896781, 0.999972758591005, 0.9999998327736159, 0.9999999998553306, 0.999999999999952, 1.0]\n",
      "[0, 1, 2, 3, 4, 5, 6, 7, 8, 9, 10, 11, 12, 13, 14, 15, 16, 17, 18, 19, 20, 21, 22, 23, 24, 25, 26, 27, 28, 29, 30, 31, 32, 33, 34, 35, 36, 37, 38, 39, 40]\n"
     ]
    }
   ],
   "source": [
    "norm_cul_vals_edit = []\n",
    "prev_ele = 0\n",
    "\n",
    "for element in norm_cul_vals:\n",
    "    if element != 0 and element != prev_ele:\n",
    "        norm_cul_vals_edit.append(element)\n",
    "    prev_ele = element\n",
    "        \n",
    "print(norm_cul_vals_edit)\n",
    "\n",
    "x_vals = []\n",
    "for y in range(len(norm_cul_vals_edit)):\n",
    "    x_vals.append(y)\n",
    "    \n",
    "print(x_vals)"
   ]
  },
  {
   "cell_type": "code",
   "execution_count": 23,
   "id": "3d04f58c-c2f0-492d-89cd-e61c93c16a4c",
   "metadata": {},
   "outputs": [
    {
     "data": {
      "image/png": "[encoded data removed]",
      "text/plain": [
       "<Figure size 432x288 with 1 Axes>"
      ]
     },
     "metadata": {
      "needs_background": "light"
     },
     "output_type": "display_data"
    }
   ],
   "source": [
    "plt.bar(x_vals, norm_cul_vals_edit)\n",
    "plt.xlabel(\"Number of pixels from left edge of jet\")\n",
    "plt.ylabel(\"Normalized Cumulative Value\")\n",
    "plt.show()"
   ]
  },
  {
   "cell_type": "code",
   "execution_count": 24,
   "id": "faf8790c-4fff-4796-b392-48541460c6b5",
   "metadata": {},
   "outputs": [
    {
     "name": "stdout",
     "output_type": "stream",
     "text": [
      "Width of Jet in Pixels: 31 pixels\n",
      "Jet Width (in x direction): 3.875e+22 cm\n"
     ]
    }
   ],
   "source": [
    "pixel_count = 0\n",
    "for element in norm_cul_vals_edit:\n",
    "    if element <= 0.98:\n",
    "        pixel_count += 1\n",
    "        \n",
    "print(\"Width of Jet in Pixels: {} pixels\".format(pixel_count))\n",
    "\n",
    "pixel_size = float(pixel[:-3])\n",
    "\n",
    "jet_size_y = pixel_size * pixel_count\n",
    "print(\"Jet Width (in x direction): {} cm\".format(jet_size_y))\n"
   ]
  },
  {
   "cell_type": "code",
   "execution_count": null,
   "id": "b396998b-ebd1-45f4-a594-8432edea9db1",
   "metadata": {},
   "outputs": [],
   "source": []
  }
 ],
 "metadata": {
  "kernelspec": {
   "display_name": "Python 3 (ipykernel)",
   "language": "python",
   "name": "python3"
  },
  "language_info": {
   "codemirror_mode": {
    "name": "ipython",
    "version": 3
   },
   "file_extension": ".py",
   "mimetype": "text/x-python",
   "name": "python",
   "nbconvert_exporter": "python",
   "pygments_lexer": "ipython3",
   "version": "3.9.12"
  }
 },
 "nbformat": 4,
 "nbformat_minor": 5
}
