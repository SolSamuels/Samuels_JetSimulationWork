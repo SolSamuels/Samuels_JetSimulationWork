{
 "cells": [
  {
   "cell_type": "code",
   "execution_count": null,
   "id": "d7a0e44b-8971-44ed-a9b6-ec08906f10dd",
   "metadata": {},
   "outputs": [],
   "source": [
    "if len(mega_inflss) > 1:\n",
    "        main_mega_infls = []\n",
    "        for point in mega_infls:\n",
    "            if point > x_vals_Q1 and point < x_vals_Q3:\n",
    "                main_mega_infls.append(point)\n",
    "        print(main_mega_infls[0])\n",
    "        \n",
    "\n",
    "        cul_vals = []\n",
    "        movingsum = 0\n",
    "        for i in range(len(slice_vals)):\n",
    "            print(movingsum)\n",
    "            if i > main_mega_infls[0] and i < main_mega_infls[1]:\n",
    "                cul_vals.append(movingsum)\n",
    "            else:\n",
    "                movingsum += slice_vals[i]\n",
    "                cul_vals.append(movingsum)\n",
    "        print(cul_vals)\n",
    "\n",
    "        #Normalizes the Cumulative Values and creates list\n",
    "        max_val = cul_vals[-1]\n",
    "        norm_cul_vals = []\n",
    "        norm = 0\n",
    "        for element in cul_vals:\n",
    "            norm = element / max_val\n",
    "            norm_cul_vals.append(norm)\n",
    "\n",
    "        #Edits the Normalizes Values to Exclude zeros and repeating terms\n",
    "        final_reached = False\n",
    "        norm_cul_vals_edit = []\n",
    "        for element in norm_cul_vals:\n",
    "            if element != 0 and final_reached is False:\n",
    "                norm_cul_vals_edit.append(element)\n",
    "            if element == 1:\n",
    "                final_reached = True\n",
    "                \n",
    "        x_vals = []\n",
    "        for x in range(len(norm_cul_vals_edit)):\n",
    "            x_vals.append(x)\n",
    "            \n",
    "\n",
    "        plt.plot(x_vals, norm_cul_vals_edit, color='b')\n",
    "        plt.title(\"Normalized Cumulative Histogram of Jet Intensities From Bottom to Top\")\n",
    "        plt.xlabel(\"Number of pixels from left edge of jet\")\n",
    "        plt.ylabel(\"Normalized Cumulative Value\")\n",
    "        plt.show()\n",
    "    "
   ]
  }
 ],
 "metadata": {
  "kernelspec": {
   "display_name": "Python 3 (ipykernel)",
   "language": "python",
   "name": "python3"
  },
  "language_info": {
   "codemirror_mode": {
    "name": "ipython",
    "version": 3
   },
   "file_extension": ".py",
   "mimetype": "text/x-python",
   "name": "python",
   "nbconvert_exporter": "python",
   "pygments_lexer": "ipython3",
   "version": "3.9.12"
  }
 },
 "nbformat": 4,
 "nbformat_minor": 5
}
