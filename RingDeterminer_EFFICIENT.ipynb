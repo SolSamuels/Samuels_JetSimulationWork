{
 "cells": [
  {
   "cell_type": "code",
   "execution_count": 1,
   "id": "6be9d19e-b7e7-42b0-8086-b19ee2042eed",
   "metadata": {},
   "outputs": [],
   "source": [
    "import astropy.io\n",
    "import numpy as np\n",
    "import os\n",
    "import glob\n",
    "import matplotlib.pyplot as plt\n",
    "import matplotlib.colors as col\n",
    "import math\n",
    "import pandas as pd\n",
    "import time\n",
    "\n",
    "from astropy.io import fits\n",
    "from scipy.ndimage import gaussian_filter1d\n",
    "from scipy.signal import argrelextrema\n",
    "from math import pi"
   ]
  },
  {
   "cell_type": "code",
   "execution_count": 2,
   "id": "84b59972-6476-48fe-94b8-9cc1aa985acf",
   "metadata": {},
   "outputs": [],
   "source": [
    "def ring(data, pixel_size, center_x, center_y, file_count):\n",
    "\n",
    "    r_vals = []\n",
    "    \n",
    "    r_dict_I = {}\n",
    "    r_dict_pix = {}\n",
    "    tic = time.perf_counter()\n",
    "    y_len = len(data)\n",
    "    x_len = len(data[1])\n",
    "    \n",
    "    \n",
    "    #delta = round(center_x/35) + 1\n",
    "    #print(delta)\n",
    "    \n",
    "\n",
    "    for y in range(y_len):\n",
    "        \n",
    "        for x in range(x_len):\n",
    "\n",
    "            I = data[y, x]\n",
    "            \n",
    "\n",
    "            rx = abs(center_x - x)\n",
    "            ry = abs(center_y - y)\n",
    "            r = round(math.sqrt(rx**2 + ry**2))\n",
    "            r = int(r)\n",
    "\n",
    "\n",
    "            if r in r_vals:\n",
    "                #cur_I_sum = r_dict_I[r]\n",
    "                r_dict_I[r] += I\n",
    "\n",
    "                #cur_pix_sum = r_dict_pix[r]\n",
    "                r_dict_pix[r] += 1\n",
    "\n",
    "\n",
    "            else:\n",
    "                r_vals.append(r)\n",
    "\n",
    "                r_dict_I[r] = I\n",
    "\n",
    "\n",
    "                r_dict_pix[r] = 1\n",
    "\n",
    "    r_dict_I_sort = sorted(r_dict_I.keys())\n",
    "    \n",
    "    r_lst = []\n",
    "    cul_vals = []\n",
    "    I_vals = []\n",
    "    moving_sum = 0\n",
    "    \n",
    "   \n",
    "    for key in r_dict_I_sort:\n",
    "        if r_dict_I[key] != 0:\n",
    "            r_cm = pixel_size * key\n",
    "            r_kpc = round((r_cm * 3.24077928967e-19) / 1e3, 4)\n",
    "\n",
    "            r_lst.append(r_kpc)\n",
    "            I_pix = r_dict_I[key] / r_dict_pix[key]\n",
    "            moving_sum += I_pix\n",
    "            cul_vals.append(moving_sum)\n",
    "            I_vals.append(I_pix)\n",
    "    \n",
    "        \n",
    "    max_val = cul_vals[-1]\n",
    "    norm_cul_vals = []\n",
    "    for element in cul_vals:\n",
    "        norm = element / max_val\n",
    "        norm_cul_vals.append(norm)\n",
    "        \n",
    "        \n",
    "        \n",
    "        \n",
    "    plt.plot(r_lst, I_vals)\n",
    "    plt.title(\"Jet Intensities Radially\")\n",
    "    plt.xlabel(\"R-Value (kpc)\")\n",
    "    plt.ylabel(\"Intensity Value\")\n",
    "    plt.show()\n",
    "    \n",
    "    plt.bar(r_lst, norm_cul_vals, width=0.5)\n",
    "    plt.plot(r_lst, norm_cul_vals)\n",
    "    plt.title(\"Normalized Cumulative Histogram of Jet Intensities Radially\")\n",
    "    plt.xlabel(\"R-Value (kpc)\")\n",
    "    plt.ylabel(\"Normalized Cumulative Value\")\n",
    "    plt.show()\n",
    "    \n",
    "    \n",
    "    if file_count >= 7:\n",
    "        # 1. Create an array with outliers\n",
    "        # 2. Determine mean and standard deviation\n",
    "        mean = np.mean(I_vals)\n",
    "        std_dev = np.std(I_vals)\n",
    "        # 3. Normalize array around 0\n",
    "        zero_based = abs(I_vals - mean)\n",
    "        # 4. Define maximum number of standard deviations\n",
    "        max_deviations = 1\n",
    "\n",
    "\n",
    "\n",
    "        no_outliers = []\n",
    "\n",
    "        for i, element in enumerate(zero_based):\n",
    "            if element < max_deviations * std_dev:\n",
    "                no_outliers.append(I_vals[i])\n",
    "            else:\n",
    "                no_outliers.append(0)\n",
    "\n",
    "\n",
    "        plt.plot(r_lst[20:], no_outliers[20:])\n",
    "        plt.title(\"Jet Intensities Radially\")\n",
    "        plt.xlabel(\"R-Value (kpc)\")\n",
    "        plt.ylabel(\"Intensity Value\")\n",
    "        plt.show()\n",
    "\n",
    "    pixel_count = 0\n",
    "    for element in norm_cul_vals:\n",
    "        if element >= 0.02 and element <= 0.98:\n",
    "            pixel_count += 1\n",
    "            \n",
    "    jet_r_cm = pixel_size * pixel_count\n",
    "    jet_r_kpc = round((jet_r_cm * 3.24077928967e-19) / 1e3, 4)\n",
    "    print(\"\\nTotal Radius (96%): {} kpc\".format(jet_r_kpc))\n",
    "    \n",
    "    toc = time.perf_counter()\n",
    "    print(\"\\nCompleted in {} seconds\".format(round(toc - tic)))\n",
    "    \n",
    "\n",
    "\n",
    "        \n",
    "        \n",
    "                    \n",
    "                    \n",
    "    \n",
    "        \n",
    "    "
   ]
  },
  {
   "cell_type": "code",
   "execution_count": 6,
   "id": "7658e142-5f95-458b-9717-5b9f6e43a456",
   "metadata": {},
   "outputs": [
    {
     "name": "stdout",
     "output_type": "stream",
     "text": [
      "\n",
      "JET RING DETERMINING PROGRAM:\n",
      "____________________________________________________________________________________________________\n",
      "\n",
      "File Number 1/12\n",
      "\n",
      "Simulation Title: Simulation Group_L446_rc100_beta07 - 1.0 Myr - 30 MHz\n"
     ]
    },
    {
     "data": {
      "image/png": "[encoded data removed]",
      "text/plain": [
       "<Figure size 432x288 with 2 Axes>"
      ]
     },
     "metadata": {
      "needs_background": "light"
     },
     "output_type": "display_data"
    },
    {
     "name": "stdin",
     "output_type": "stream",
     "text": [
      "good? y\n"
     ]
    },
    {
     "data": {
      "image/png": "[encoded data removed]",
      "text/plain": [
       "<Figure size 432x288 with 1 Axes>"
      ]
     },
     "metadata": {
      "needs_background": "light"
     },
     "output_type": "display_data"
    },
    {
     "data": {
      "image/png": "[encoded data removed]",
      "text/plain": [
       "<Figure size 432x288 with 1 Axes>"
      ]
     },
     "metadata": {
      "needs_background": "light"
     },
     "output_type": "display_data"
    },
    {
     "name": "stdout",
     "output_type": "stream",
     "text": [
      "\n",
      "Total Radius (96%): 2.8357 kpc\n",
      "\n",
      "Completed in 0 seconds\n",
      "____________________________________________________________________________________________________\n",
      "\n",
      "File Number 2/12\n",
      "\n",
      "Simulation Title: Simulation Group_L446_rc100_beta07 - 2.0 Myr - 30 MHz\n"
     ]
    },
    {
     "data": {
      "image/png": "[encoded data removed]",
      "text/plain": [
       "<Figure size 432x288 with 2 Axes>"
      ]
     },
     "metadata": {
      "needs_background": "light"
     },
     "output_type": "display_data"
    },
    {
     "ename": "KeyboardInterrupt",
     "evalue": "Interrupted by user",
     "output_type": "error",
     "traceback": [
      "\u001b[0;31m---------------------------------------------------------------------------\u001b[0m",
      "\u001b[0;31mKeyboardInterrupt\u001b[0m                         Traceback (most recent call last)",
      "Input \u001b[0;32mIn [6]\u001b[0m, in \u001b[0;36m<cell line: 11>\u001b[0;34m()\u001b[0m\n\u001b[1;32m     54\u001b[0m plt\u001b[38;5;241m.\u001b[39mcolorbar() \n\u001b[1;32m     55\u001b[0m plt\u001b[38;5;241m.\u001b[39mshow()\n\u001b[0;32m---> 57\u001b[0m good \u001b[38;5;241m=\u001b[39m \u001b[38;5;28;43minput\u001b[39;49m\u001b[43m(\u001b[49m\u001b[38;5;124;43m\"\u001b[39;49m\u001b[38;5;124;43mgood?\u001b[39;49m\u001b[38;5;124;43m\"\u001b[39;49m\u001b[43m)\u001b[49m\n\u001b[1;32m     58\u001b[0m plt\u001b[38;5;241m.\u001b[39mclose()\n\u001b[1;32m     62\u001b[0m ring(data, pixel_size, center_x, center_y, file_count)\n",
      "File \u001b[0;32m~/anaconda3/lib/python3.9/site-packages/ipykernel/kernelbase.py:1075\u001b[0m, in \u001b[0;36mKernel.raw_input\u001b[0;34m(self, prompt)\u001b[0m\n\u001b[1;32m   1071\u001b[0m \u001b[38;5;28;01mif\u001b[39;00m \u001b[38;5;129;01mnot\u001b[39;00m \u001b[38;5;28mself\u001b[39m\u001b[38;5;241m.\u001b[39m_allow_stdin:\n\u001b[1;32m   1072\u001b[0m     \u001b[38;5;28;01mraise\u001b[39;00m StdinNotImplementedError(\n\u001b[1;32m   1073\u001b[0m         \u001b[38;5;124m\"\u001b[39m\u001b[38;5;124mraw_input was called, but this frontend does not support input requests.\u001b[39m\u001b[38;5;124m\"\u001b[39m\n\u001b[1;32m   1074\u001b[0m     )\n\u001b[0;32m-> 1075\u001b[0m \u001b[38;5;28;01mreturn\u001b[39;00m \u001b[38;5;28;43mself\u001b[39;49m\u001b[38;5;241;43m.\u001b[39;49m\u001b[43m_input_request\u001b[49m\u001b[43m(\u001b[49m\n\u001b[1;32m   1076\u001b[0m \u001b[43m    \u001b[49m\u001b[38;5;28;43mstr\u001b[39;49m\u001b[43m(\u001b[49m\u001b[43mprompt\u001b[49m\u001b[43m)\u001b[49m\u001b[43m,\u001b[49m\n\u001b[1;32m   1077\u001b[0m \u001b[43m    \u001b[49m\u001b[38;5;28;43mself\u001b[39;49m\u001b[38;5;241;43m.\u001b[39;49m\u001b[43m_parent_ident\u001b[49m\u001b[43m[\u001b[49m\u001b[38;5;124;43m\"\u001b[39;49m\u001b[38;5;124;43mshell\u001b[39;49m\u001b[38;5;124;43m\"\u001b[39;49m\u001b[43m]\u001b[49m\u001b[43m,\u001b[49m\n\u001b[1;32m   1078\u001b[0m \u001b[43m    \u001b[49m\u001b[38;5;28;43mself\u001b[39;49m\u001b[38;5;241;43m.\u001b[39;49m\u001b[43mget_parent\u001b[49m\u001b[43m(\u001b[49m\u001b[38;5;124;43m\"\u001b[39;49m\u001b[38;5;124;43mshell\u001b[39;49m\u001b[38;5;124;43m\"\u001b[39;49m\u001b[43m)\u001b[49m\u001b[43m,\u001b[49m\n\u001b[1;32m   1079\u001b[0m \u001b[43m    \u001b[49m\u001b[43mpassword\u001b[49m\u001b[38;5;241;43m=\u001b[39;49m\u001b[38;5;28;43;01mFalse\u001b[39;49;00m\u001b[43m,\u001b[49m\n\u001b[1;32m   1080\u001b[0m \u001b[43m\u001b[49m\u001b[43m)\u001b[49m\n",
      "File \u001b[0;32m~/anaconda3/lib/python3.9/site-packages/ipykernel/kernelbase.py:1120\u001b[0m, in \u001b[0;36mKernel._input_request\u001b[0;34m(self, prompt, ident, parent, password)\u001b[0m\n\u001b[1;32m   1117\u001b[0m             \u001b[38;5;28;01mbreak\u001b[39;00m\n\u001b[1;32m   1118\u001b[0m \u001b[38;5;28;01mexcept\u001b[39;00m \u001b[38;5;167;01mKeyboardInterrupt\u001b[39;00m:\n\u001b[1;32m   1119\u001b[0m     \u001b[38;5;66;03m# re-raise KeyboardInterrupt, to truncate traceback\u001b[39;00m\n\u001b[0;32m-> 1120\u001b[0m     \u001b[38;5;28;01mraise\u001b[39;00m \u001b[38;5;167;01mKeyboardInterrupt\u001b[39;00m(\u001b[38;5;124m\"\u001b[39m\u001b[38;5;124mInterrupted by user\u001b[39m\u001b[38;5;124m\"\u001b[39m) \u001b[38;5;28;01mfrom\u001b[39;00m \u001b[38;5;28mNone\u001b[39m\n\u001b[1;32m   1121\u001b[0m \u001b[38;5;28;01mexcept\u001b[39;00m \u001b[38;5;167;01mException\u001b[39;00m:\n\u001b[1;32m   1122\u001b[0m     \u001b[38;5;28mself\u001b[39m\u001b[38;5;241m.\u001b[39mlog\u001b[38;5;241m.\u001b[39mwarning(\u001b[38;5;124m\"\u001b[39m\u001b[38;5;124mInvalid Message:\u001b[39m\u001b[38;5;124m\"\u001b[39m, exc_info\u001b[38;5;241m=\u001b[39m\u001b[38;5;28;01mTrue\u001b[39;00m)\n",
      "\u001b[0;31mKeyboardInterrupt\u001b[0m: Interrupted by user"
     ]
    }
   ],
   "source": [
    "#Main Calling Block of Code\n",
    "\n",
    "print(\"\\nJET RING DETERMINING PROGRAM:\")\n",
    "print(\"{}\\n\".format(\"_\"*100))\n",
    "\n",
    "path = '**/Group_L446_rc100_*nu=30.0*0.00_0.00_1.00*Myr.fits*'\n",
    "\n",
    "# Determines if there are any files in device\n",
    "total_files = len(glob.glob(path, recursive=True))\n",
    "\n",
    "if total_files > 0:\n",
    "    file_count = 0\n",
    "    delta = 1\n",
    "    for file in sorted(glob.glob(path, recursive=True)):\n",
    "\n",
    "        file_count += 1\n",
    "\n",
    "        try:\n",
    "            print(\"File Number {}/{}\\n\".format(file_count, total_files))\n",
    "            #print(\"File Name: {}\".format(file))\n",
    "            \n",
    "            image_data = fits.getdata(file, ext=0)\n",
    "            fits_image_hdul = fits.open(file)\n",
    "\n",
    "            #Displays FITS Image title, time index, and pixel size\n",
    "            sim_title = fits_image_hdul[0].header['OBJECT']\n",
    "            sim_time = fits_image_hdul[0].header['TIME']\n",
    "            pixel = fits_image_hdul[0].header['CDELT1']\n",
    "            print(\"Simulation Title: {}\".format(sim_title))\n",
    "            #print(\"Time index: {}\".format(sim_time))\n",
    "            #print(\"Pixel size: {}\".format(pixel))\n",
    "            pixel_size = float(pixel[:-3])\n",
    "            \n",
    "            center_x = round(float(fits_image_hdul[0].header['CRPIX1']))\n",
    "            center_y = round(float(fits_image_hdul[0].header['CRPIX2']))\n",
    "            center = (center_x, center_y)\n",
    "            #print(\"Center of fits image: {}\".format(center))\n",
    "\n",
    "            #Difines Data From FITS image and records image dimensions\n",
    "            data =  fits_image_hdul[0].data\n",
    "            length = len(data[0])\n",
    "            width = len(data)\n",
    "            #print(\"FITS Image Dimensions: {}x{} pixels \\n\".format(length, width))\n",
    "\n",
    "            for i in range(image_data.shape[0]):\n",
    "                for j in range(image_data.shape[1]):\n",
    "                    if image_data[i, j] == 0:\n",
    "                        image_data[i, j] = 1e-12\n",
    "            \n",
    "            \n",
    "            plt.figure()\n",
    "            ime = plt.imshow(image_data, cmap='hot', norm=col.LogNorm())\n",
    "            plt.clim(10e-11, 1e2) \n",
    "            plt.colorbar() \n",
    "            plt.show()\n",
    "            \n",
    "            good = input(\"good?\")\n",
    "            plt.close()\n",
    "            \n",
    "\n",
    "            \n",
    "            ring(data, pixel_size, center_x, center_y, file_count)\n",
    "            \n",
    "            \n",
    "\n",
    "            #Calls jet_width function\n",
    "            #print(\"\\nJET WIDTH DATA:\")\n",
    "            #print(\"{}\\n\".format(\"~\"*50))\n",
    "            #jet_width(data, width, pixel_size)\n",
    "\n",
    "            print(\"{}\\n\".format(\"_\"*100))\n",
    "\n",
    "        except OSError:\n",
    "            print(\"Error with file: {}\".format(file))\n",
    "            print(\"Empty or corrupt FITS file\")\n",
    "            \n",
    "else:\n",
    "    print(\"ERROR: Could not find any necessary files on your device\")\n",
    "    print(\"Program intakes files of the name: {}\".format(path))"
   ]
  },
  {
   "cell_type": "code",
   "execution_count": null,
   "id": "3055aca2-81c3-4910-933e-b346f6e400d3",
   "metadata": {},
   "outputs": [],
   "source": []
  }
 ],
 "metadata": {
  "kernelspec": {
   "display_name": "Python 3 (ipykernel)",
   "language": "python",
   "name": "python3"
  },
  "language_info": {
   "codemirror_mode": {
    "name": "ipython",
    "version": 3
   },
   "file_extension": ".py",
   "mimetype": "text/x-python",
   "name": "python",
   "nbconvert_exporter": "python",
   "pygments_lexer": "ipython3",
   "version": "3.9.12"
  }
 },
 "nbformat": 4,
 "nbformat_minor": 5
}
