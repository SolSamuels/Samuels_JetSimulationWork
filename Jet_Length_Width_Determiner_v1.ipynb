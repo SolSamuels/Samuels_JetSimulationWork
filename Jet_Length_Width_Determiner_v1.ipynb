{
 "cells": [
  {
   "cell_type": "markdown",
   "id": "7a3f19c9-4c70-4b5b-91f0-8e645a4e1066",
   "metadata": {},
   "source": [
    "Program Name: Jet_Length_Width_Determiner_v1.py\n",
    "\n",
    "Date: 6/11/2022\n",
    "\n",
    "Creator: Sol Samuels\n",
    "\n",
    "Description: \n",
    " - This program intakes jet related FITS files from ones device, specifically those named in the format \\*\\*/Group\\*0.00_1.00_0.00\\*.fits\\* , and returns the jet's estimated length and width.\n",
    " - The program also displays normalized cumulative histogram figures for jet intensits by row or column of fits image as pixel count increases from the edge of the jet.\n",
    " - NOTE: This is version 1 of this program. Program is subject to be changed.\n",
    " \n",
    "Variable Keywords:\n",
    " - cul = \"cumulative\"\n",
    " - slice = refers to rows or columns of fits image pixels\n",
    " - vals = \"values\"\n",
    " - norm = \"normalized\""
   ]
  },
  {
   "cell_type": "code",
   "execution_count": 1,
   "id": "df7dac28-c761-4cdf-8667-7a1ab0debbd8",
   "metadata": {},
   "outputs": [],
   "source": [
    "import astropy.io\n",
    "import numpy as np\n",
    "import os\n",
    "import glob\n",
    "import matplotlib.pyplot as plt\n",
    "\n",
    "from astropy.io import fits"
   ]
  },
  {
   "cell_type": "code",
   "execution_count": 2,
   "id": "20a2ff3b-f00a-4b39-ba9f-03b6d2930365",
   "metadata": {},
   "outputs": [],
   "source": [
    "#This Function Takes FITS data and pixel size to display Jet Length Info\n",
    "def jet_length(data, pixel_size):\n",
    "    \n",
    "    #Creates list of slice sums\n",
    "    slice_vals = []\n",
    "    for row in data:\n",
    "        slice_sum = 0\n",
    "        for element in row:\n",
    "            slice_sum += element\n",
    "        slice_vals.append(slice_sum)\n",
    "        \n",
    "    #Creates list of Cumulative Sum values\n",
    "    cul_vals = []\n",
    "    movingsum = 0\n",
    "    for element in slice_vals:\n",
    "        movingsum += element\n",
    "        cul_vals.append(movingsum)\n",
    "        \n",
    "    #Normalizes the Cumulative Values and creates list\n",
    "    max_val = cul_vals[-1]\n",
    "    norm_cul_vals = []\n",
    "    norm = 0\n",
    "    for element in cul_vals:\n",
    "        norm = element / max_val\n",
    "        norm_cul_vals.append(norm)\n",
    "        \n",
    "    #Edits the Normalizes Values to Exclude zeros and repeating terms\n",
    "    norm_cul_vals_edit = []\n",
    "    prev_ele = 0\n",
    "    for element in norm_cul_vals:\n",
    "        if element != 0 and element != prev_ele:\n",
    "            norm_cul_vals_edit.append(element)\n",
    "        prev_ele = element\n",
    "\n",
    "    #Creates Value Headers for x-axis of histogram\n",
    "    x_vals = []\n",
    "    for x in range(len(norm_cul_vals_edit)):\n",
    "        x_vals.append(x)\n",
    "        \n",
    "    #Creates normalized cumulative histogram of data\n",
    "    plt.bar(x_vals, norm_cul_vals_edit)\n",
    "    plt.title(\"Normalized Cumulative Histogram of Jet Intensities From Bottom to Top\")\n",
    "    plt.xlabel(\"Number of pixels from bottom edge of jet\")\n",
    "    plt.ylabel(\"Normalized Cumulative Value\")\n",
    "    plt.show()\n",
    "    \n",
    "    #Determines and prints length of jet in pixels. Estimates to 0.98\n",
    "    pixel_count = 0\n",
    "    for element in norm_cul_vals_edit:\n",
    "        if element <= 0.98:\n",
    "            pixel_count += 1\n",
    "    print(\"\\nLength of Jet in Pixels: {} pixels\".format(pixel_count))\n",
    "\n",
    "    #Converts pixel size to cm and prints\n",
    "    jet_size_y = pixel_size * pixel_count\n",
    "    print(\"Jet Length in cm (y-direction): {} cm\".format(jet_size_y))\n"
   ]
  },
  {
   "cell_type": "code",
   "execution_count": 3,
   "id": "ed65e04c-9e05-49e2-b77e-8aa5ef659e10",
   "metadata": {},
   "outputs": [],
   "source": [
    "#This Function Takes FITS data, FITS image width and pixel size to display Jet Width Info\n",
    "def jet_width(data, width, pixel_size):\n",
    "    \n",
    "    #Reorients data so rows become columns\n",
    "    data_reorient = []\n",
    "    for x in range(width):\n",
    "        col_sub = []\n",
    "        for row in data:\n",
    "            col_sub.append(row[x])\n",
    "        data_reorient.append(col_sub)\n",
    "        \n",
    "    #Creates list of slice sums\n",
    "    slice_vals = []\n",
    "    for row in data_reorient:\n",
    "        slice_sum = 0\n",
    "        for element in row:\n",
    "            slice_sum += element\n",
    "        slice_vals.append(slice_sum)\n",
    "        \n",
    "    #Creates list of Cumulative Sum values\n",
    "    cul_vals = []\n",
    "    movingsum = 0\n",
    "    for element in slice_vals:\n",
    "        movingsum += element\n",
    "        cul_vals.append(movingsum)\n",
    "        \n",
    "    #Normalizes the Cumulative Values and creates list\n",
    "    max_val = cul_vals[-1]\n",
    "    norm_cul_vals = []\n",
    "    norm = 0\n",
    "    for element in cul_vals:\n",
    "        norm = element / max_val\n",
    "        norm_cul_vals.append(norm)\n",
    "        \n",
    "    #Edits the Normalizes Values to Exclude zeros and repeating terms\n",
    "    norm_cul_vals_edit = []\n",
    "    prev_ele = 0\n",
    "    for element in norm_cul_vals:\n",
    "        if element != 0 and element != prev_ele:\n",
    "            norm_cul_vals_edit.append(element)\n",
    "        prev_ele = element\n",
    "\n",
    "    #Creates Value Headers for x-axis of histogram\n",
    "    x_vals = []\n",
    "    for x in range(len(norm_cul_vals_edit)):\n",
    "        x_vals.append(x)\n",
    "        \n",
    "    #Creates normalized cumulative histogram of data\n",
    "    plt.bar(x_vals, norm_cul_vals_edit, color='red')\n",
    "    plt.title(\"Normalized Cumulative Histogram of Jet Intensities From Left to Right\")\n",
    "    plt.xlabel(\"Number of pixels from left edge of jet\")\n",
    "    plt.ylabel(\"Normalized Cumulative Value\")\n",
    "    plt.show()\n",
    "    \n",
    "    #Determines and prints length of jet in pixels. Estimates to 0.98\n",
    "    pixel_count = 0\n",
    "    for element in norm_cul_vals_edit:\n",
    "        if element <= 0.98:\n",
    "            pixel_count += 1\n",
    "    print(\"\\nWidth of Jet in Pixels: {} pixels\".format(pixel_count))\n",
    "\n",
    "    #Converts pixel size to cm and prints\n",
    "    jet_size_x = pixel_size * pixel_count\n",
    "    print(\"Jet Width in cm (x-direction): {} cm\".format(jet_size_x))\n"
   ]
  },
  {
   "cell_type": "code",
   "execution_count": 4,
   "id": "79d66616-ae5e-47e4-abc3-97f74b38488a",
   "metadata": {},
   "outputs": [
    {
     "name": "stdout",
     "output_type": "stream",
     "text": [
      "\n",
      "JET LENGTH AND WIDTH DETERMINING PROGRAM:\n",
      "____________________________________________________________________________________________________\n",
      "\n",
      "File Number 1\n",
      "\n",
      "File Name: Group_L446_rc30_beta07_0010_nu=30.0_los=0.00_1.00_0.00_1.0Myr.fits\n",
      "Simulation Title: Simulation Group_L446_rc30_beta07 - 1.0 Myr - 30 MHz\n",
      "Time index: 1.0003e+00 Myr\n",
      "Pixel size: 1.2500e+21 cm\n",
      "FITS Image Dimensions: 48x48 pixels \n",
      "\n",
      "\n",
      "JET LENGTH DATA:\n",
      "~~~~~~~~~~~~~~~~~~~~~~~~~~~~~~~~~~~~~~~~~~~~~~~~~~\n",
      "\n"
     ]
    },
    {
     "data": {
      "image/png": "[encoded data removed]",
      "text/plain": [
       "<Figure size 432x288 with 1 Axes>"
      ]
     },
     "metadata": {
      "needs_background": "light"
     },
     "output_type": "display_data"
    },
    {
     "name": "stdout",
     "output_type": "stream",
     "text": [
      "\n",
      "Length of Jet in Pixels: 29 pixels\n",
      "Jet Length in cm (y-direction): 3.625e+22 cm\n",
      "\n",
      "JET WIDTH DATA:\n",
      "~~~~~~~~~~~~~~~~~~~~~~~~~~~~~~~~~~~~~~~~~~~~~~~~~~\n",
      "\n"
     ]
    },
    {
     "data": {
      "image/png": "[encoded data removed]",
      "text/plain": [
       "<Figure size 432x288 with 1 Axes>"
      ]
     },
     "metadata": {
      "needs_background": "light"
     },
     "output_type": "display_data"
    },
    {
     "name": "stdout",
     "output_type": "stream",
     "text": [
      "\n",
      "Width of Jet in Pixels: 15 pixels\n",
      "Jet Width in cm (x-direction): 1.875e+22 cm\n",
      "____________________________________________________________________________________________________\n",
      "\n",
      "File Number 2\n",
      "\n",
      "File Name: Group_L446_rc30_beta07_0040_nu=30.0_los=0.00_1.00_0.00_4.0Myr.fits.gz\n",
      "Simulation Title: Simulation Group_L446_rc30_beta07 - 4.0 Myr - 30 MHz\n",
      "Time index: 4.0003e+00 Myr\n",
      "Pixel size: 1.2500e+21 cm\n",
      "FITS Image Dimensions: 144x144 pixels \n",
      "\n",
      "\n",
      "JET LENGTH DATA:\n",
      "~~~~~~~~~~~~~~~~~~~~~~~~~~~~~~~~~~~~~~~~~~~~~~~~~~\n",
      "\n"
     ]
    },
    {
     "data": {
      "image/png": "[encoded data removed]",
      "text/plain": [
       "<Figure size 432x288 with 1 Axes>"
      ]
     },
     "metadata": {
      "needs_background": "light"
     },
     "output_type": "display_data"
    },
    {
     "name": "stdout",
     "output_type": "stream",
     "text": [
      "\n",
      "Length of Jet in Pixels: 81 pixels\n",
      "Jet Length in cm (y-direction): 1.0125e+23 cm\n",
      "\n",
      "JET WIDTH DATA:\n",
      "~~~~~~~~~~~~~~~~~~~~~~~~~~~~~~~~~~~~~~~~~~~~~~~~~~\n",
      "\n"
     ]
    },
    {
     "data": {
      "image/png": "[encoded data removed]",
      "text/plain": [
       "<Figure size 432x288 with 1 Axes>"
      ]
     },
     "metadata": {
      "needs_background": "light"
     },
     "output_type": "display_data"
    },
    {
     "name": "stdout",
     "output_type": "stream",
     "text": [
      "\n",
      "Width of Jet in Pixels: 31 pixels\n",
      "Jet Width in cm (x-direction): 3.875e+22 cm\n",
      "____________________________________________________________________________________________________\n",
      "\n",
      "File Number 3\n",
      "\n",
      "File Name: Group0.00_1.00_0.00.fits.txt\n",
      "Error with file: Group0.00_1.00_0.00.fits.txt\n",
      "Empty or corrupt FITS file\n"
     ]
    }
   ],
   "source": [
    "#Main Calling Block of Code\n",
    "\n",
    "print(\"\\nJET LENGTH AND WIDTH DETERMINING PROGRAM:\")\n",
    "print(\"{}\\n\".format(\"_\"*100))\n",
    "\n",
    "path = '**/Group*0.00_1.00_0.00*.fits*'\n",
    "\n",
    "# Determines if there are any files in device\n",
    "files_found = False\n",
    "if len(glob.glob(path, recursive=True)) > 0:\n",
    "    files_found = True\n",
    "\n",
    "if files_found is True:\n",
    "    file_count = 0\n",
    "    for file in glob.glob(path, recursive=True):\n",
    "\n",
    "        file_count += 1\n",
    "\n",
    "        try:\n",
    "            print(\"File Number {}\\n\".format(file_count))\n",
    "            print(\"File Name: {}\".format(file))\n",
    "            fits_image_hdul = fits.open(file)\n",
    "\n",
    "            #Displays FITS Image title, time index, and pixel size\n",
    "            sim_title = fits_image_hdul[0].header['OBJECT']\n",
    "            sim_time = fits_image_hdul[0].header['TIME']\n",
    "            pixel = fits_image_hdul[0].header['CDELT1']\n",
    "            print(\"Simulation Title: {}\".format(sim_title))\n",
    "            print(\"Time index: {}\".format(sim_time))\n",
    "            print(\"Pixel size: {}\".format(pixel))\n",
    "            pixel_size = float(pixel[:-3])\n",
    "\n",
    "            #Difines Data From FITS image and records image dimensions\n",
    "            data =  fits_image_hdul[0].data\n",
    "            length = len(data[0])\n",
    "            width = len(data)\n",
    "            print(\"FITS Image Dimensions: {}x{} pixels \\n\".format(length, width))\n",
    "\n",
    "            #Calls jet_length function\n",
    "            print(\"\\nJET LENGTH DATA:\")\n",
    "            print(\"{}\\n\".format(\"~\"*50))\n",
    "            jet_length(data, pixel_size)\n",
    "\n",
    "            #Calls jet_width function\n",
    "            print(\"\\nJET WIDTH DATA:\")\n",
    "            print(\"{}\\n\".format(\"~\"*50))\n",
    "            jet_width(data, width, pixel_size)\n",
    "\n",
    "            print(\"{}\\n\".format(\"_\"*100))\n",
    "\n",
    "        except OSError:\n",
    "            print(\"Error with file: {}\".format(file))\n",
    "            print(\"Empty or corrupt FITS file\")\n",
    "            \n",
    "else:\n",
    "    print(\"ERROR: Could not find any necessary files on your device\")\n",
    "    print(\"Program intakes files of the name: {}\".format(path))"
   ]
  },
  {
   "cell_type": "code",
   "execution_count": null,
   "id": "5427f4d6-8f25-4584-a20e-ffbf2c9056ce",
   "metadata": {},
   "outputs": [],
   "source": []
  }
 ],
 "metadata": {
  "kernelspec": {
   "display_name": "Python 3 (ipykernel)",
   "language": "python",
   "name": "python3"
  },
  "language_info": {
   "codemirror_mode": {
    "name": "ipython",
    "version": 3
   },
   "file_extension": ".py",
   "mimetype": "text/x-python",
   "name": "python",
   "nbconvert_exporter": "python",
   "pygments_lexer": "ipython3",
   "version": "3.9.12"
  }
 },
 "nbformat": 4,
 "nbformat_minor": 5
}
